{
 "cells": [
  {
   "cell_type": "code",
   "execution_count": 10,
   "metadata": {
    "collapsed": true
   },
   "outputs": [],
   "source": [
    "def negator(s):\n",
    "    s = s.replace(\"n't\", \" not\").replace(\".\", \" . \")\n",
    "    should_negate_word = False\n",
    "    text = ''\n",
    "    words = s.split()\n",
    "    for word in words:\n",
    "        if word == 'not' or word == 'no' or word == 'n\\'t':\n",
    "            should_negate_word = not should_negate_word\n",
    "        elif word == '.':\n",
    "            should_negate_word = False\n",
    "        elif should_negate_word:\n",
    "            text += 'not_' + word + ' '\n",
    "        else:\n",
    "            text += word + ' '\n",
    "    return text"
   ]
  },
  {
   "cell_type": "code",
   "execution_count": 11,
   "metadata": {
    "collapsed": false
   },
   "outputs": [],
   "source": [
    "from nltk.stem import PorterStemmer\n",
    "from nltk.tokenize import SpaceTokenizer\n",
    "import re\n",
    "import csv\n",
    "\n",
    "stopwords = open('stopwords.csv').readlines()[0].rstrip().split(', ')\n",
    "\n",
    "tokenizer = SpaceTokenizer()\n",
    "stemmer = PorterStemmer()\n",
    "\n",
    "pipeline = [lambda s: re.sub('<[^>]*>', ' ', s),\n",
    "            lambda s: re.sub(\"[^.'\\w\\s]\", '', s),\n",
    "            lambda s: re.sub('[\\d]', '', s),\n",
    "            lambda s: s.lower(),\n",
    "            lambda s: ' '.join(filter(lambda s: not (s in stopwords), tokenizer.tokenize(s))),\n",
    "            #lambda s: ' '.join(map(lambda t: stemmer.stem(t), tokenizer.tokenize(s))),\n",
    "            lambda s: negator(s)\n",
    "           ]\n",
    "\n",
    "def preprocess_text(text, pipeline=pipeline):\n",
    "    if len(pipeline) == 0:\n",
    "        return text\n",
    "    else:\n",
    "        return preprocess_text(pipeline[0](text), pipeline[1:])"
   ]
  },
  {
   "cell_type": "code",
   "execution_count": 12,
   "metadata": {
    "collapsed": true
   },
   "outputs": [],
   "source": [
    "def preprocess_review(r, test=False):\n",
    "    if (test):\n",
    "        SUMMARY_INDEX = 7\n",
    "        TEXT_INDEX = 8  \n",
    "    else:\n",
    "        SUMMARY_INDEX = 8\n",
    "        TEXT_INDEX = 9\n",
    "    \n",
    "    r[SUMMARY_INDEX] = preprocess_text(r[SUMMARY_INDEX])\n",
    "    r[TEXT_INDEX] = preprocess_text(r[TEXT_INDEX])\n",
    "    return r"
   ]
  },
  {
   "cell_type": "code",
   "execution_count": 13,
   "metadata": {
    "collapsed": false
   },
   "outputs": [],
   "source": [
    "import csv\n",
    "import sys\n",
    "\n",
    "reload(sys)\n",
    "sys.setdefaultencoding('utf-8')\n",
    "\n",
    "def parallel_preprocess(input_file, output_file, test=False):\n",
    "    # Load csv\n",
    "    reviewsRDD = sc.textFile(input_file, use_unicode=False)\n",
    "    reviewsRDD = reviewsRDD.mapPartitions(lambda x: csv.reader(x))\n",
    "\n",
    "    # Save header\n",
    "    header = reviewsRDD.first()\n",
    "\n",
    "    # Extract header and preprocess\n",
    "    reviewsRDD = reviewsRDD.filter(lambda x: x != header)\\\n",
    "                           .map(lambda x: preprocess_review(x, test))\n",
    "    ppreviews = reviewsRDD.collect()\n",
    "\n",
    "    # Insert header\n",
    "    ppreviews.insert(0, header)\n",
    "\n",
    "    # Save csv\n",
    "    with open(output_file, 'wb') as f:\n",
    "        writer = csv.writer(f)\n",
    "        writer.writerows(ppreviews)"
   ]
  },
  {
   "cell_type": "code",
   "execution_count": 16,
   "metadata": {
    "collapsed": false
   },
   "outputs": [],
   "source": [
    "# Add test=True to preprocess test files\n",
    "#parallel_preprocess('../data/test.csv', '../data/sparktest.csv', test=True)"
   ]
  },
  {
   "cell_type": "code",
   "execution_count": 24,
   "metadata": {
    "collapsed": false
   },
   "outputs": [
    {
     "data": {
      "text/plain": [
       "[['492346',\n",
       "  'B001VNP0Y6',\n",
       "  'AEZRVY3CV52UZ',\n",
       "  'Corey Wright \"Democratus\"',\n",
       "  '3',\n",
       "  '3',\n",
       "  '5',\n",
       "  '1320537600',\n",
       "  'needed ',\n",
       "  \"very_timely timely_manner manner_they're they're_very very_large large_green green_seems seems_inordinate inordinate_amount amount_seeds seeds_come come_out out_weird weird_beige beige_color color_still still_tastes tastes_great great_much much_better better_deal deal_indian indian_markets markets_town town_cheers cheers_frontier\"],\n",
       " ['343811',\n",
       "  'B008J1HO4C',\n",
       "  'A18VZYSLOUO060',\n",
       "  'D. Simpson \"Frugal SOB\"',\n",
       "  '2',\n",
       "  '2',\n",
       "  '5',\n",
       "  '1204329600',\n",
       "  'excellent oatmeal ',\n",
       "  \"mccann's_steel steel_cut cut_oatmeal oatmeal_perfect perfect_breakfast breakfast_people people_hurry hurry_put put_cup cup_oats oats_little little_crockpot crockpot_cups cups_boiling boiling_water water_before before_go go_bed bed_hour hour_before before_up up_crockpot crockpot_starts starts_high high_timer timer_out out_shower shower_oatmeal oatmeal_ready ready_go go_mix mix_blueberries blueberries_raisins raisins_craisins craisins_dates dates_nuts nuts_whatever whatever_want want_eat\"],\n",
       " ['347257',\n",
       "  'B000FFIL60',\n",
       "  'A28Y1M7GRG0I9M',\n",
       "  'Real Comments \"Lin\"',\n",
       "  '0',\n",
       "  '0',\n",
       "  '4',\n",
       "  '1318464000',\n",
       "  'quality tea ',\n",
       "  \"recommend_it it_quality quality_pearls pearls_few few_make make_strong strong_tasty tasty_tea tea_bought bought_numi numi_loose loose_leaf leaf_ones ones_cheaper cheaper_it's it's_not_worth not_worth_not_saving not_saving_buy buy_one one_quality quality_aromatic aromatic_tea\"]]"
      ]
     },
     "execution_count": 24,
     "metadata": {},
     "output_type": "execute_result"
    }
   ],
   "source": [
    "# TODO add this functions to the pipeline\n",
    "# Run this if you want to join words in shingles\n",
    "def ngram(r, size, test):\n",
    "    if (test):\n",
    "        SUMMARY_INDEX = 7\n",
    "        TEXT_INDEX = 8  \n",
    "    else:\n",
    "        SUMMARY_INDEX = 8\n",
    "        TEXT_INDEX = 9\n",
    "    words = r[TEXT_INDEX].split()\n",
    "    shingles = [words[i:i+size] for i in xrange(len(words) - size + 1)]\n",
    "    shingles = [\"_\".join(i) for i in shingles]\n",
    "    r[TEXT_INDEX] = \" \".join(shingles)\n",
    "    return r\n",
    "\n",
    "def create_shingles():\n",
    "    reviewsRDD = sc.textFile('../data/sparktrain.csv', use_unicode=False)\n",
    "    reviewsRDD = reviewsRDD.mapPartitions(lambda x: csv.reader(x))\n",
    "    # Save header\n",
    "    header = reviewsRDD.first()\n",
    "    # Exctract header\n",
    "    reviewsRDD = reviewsRDD.filter(lambda x: x != header)\n",
    "    reviewsRDD = reviewsRDD.map(lambda x: ngram(x, 2, False)) "
   ]
  },
  {
   "cell_type": "code",
   "execution_count": 22,
   "metadata": {
    "collapsed": false
   },
   "outputs": [
    {
     "data": {
      "text/plain": [
       "\"very_timely timely_manner manner_they're they're_very very_large large_green green_seems seems_inordinate inordinate_amount amount_seeds seeds_come come_out out_weird weird_beige beige_color color_still still_tastes tastes_great great_much much_better better_deal deal_indian indian_markets markets_town town_cheers cheers_frontier\""
      ]
     },
     "execution_count": 22,
     "metadata": {},
     "output_type": "execute_result"
    }
   ],
   "source": [
    "a = \"very timely manner they're very large green seems inordinate amount seeds come out weird beige color still tastes great much better deal indian markets town cheers frontier \"\n",
    "words = a.split()\n",
    "words\n",
    "size = 2\n",
    "b = [words[i:i+size] for i in xrange(len(words) - size + 1)]\n",
    "c = [\"_\".join(i) for i in b]\n",
    "\" \".join(c)"
   ]
  },
  {
   "cell_type": "code",
   "execution_count": null,
   "metadata": {
    "collapsed": true
   },
   "outputs": [],
   "source": []
  }
 ],
 "metadata": {
  "kernelspec": {
   "display_name": "pySpark",
   "language": "python",
   "name": "pyspark"
  },
  "language_info": {
   "codemirror_mode": {
    "name": "ipython",
    "version": 2
   },
   "file_extension": ".py",
   "mimetype": "text/x-python",
   "name": "python",
   "nbconvert_exporter": "python",
   "pygments_lexer": "ipython2",
   "version": "2.7.6"
  }
 },
 "nbformat": 4,
 "nbformat_minor": 1
}
