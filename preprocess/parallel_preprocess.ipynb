{
 "cells": [
  {
   "cell_type": "code",
   "execution_count": 15,
   "metadata": {
    "collapsed": false
   },
   "outputs": [],
   "source": [
    "from nltk.stem import PorterStemmer\n",
    "from nltk.tokenize import SpaceTokenizer\n",
    "import re\n",
    "import csv\n",
    "\n",
    "stopwords = open('stopwords.csv').readlines()[0].rstrip().split(', ')\n",
    "\n",
    "tokenizer = SpaceTokenizer()\n",
    "stemmer = PorterStemmer()\n",
    "\n",
    "pipeline = [lambda s: re.sub('<[^>]*>', ' ', s),\n",
    "            lambda s: re.sub(\"[^.'\\w\\s]\", '', s),\n",
    "            lambda s: re.sub('[\\d]', '', s),\n",
    "            lambda s: s.lower(),\n",
    "            lambda s: ' '.join(filter(lambda s: not (s in stopwords), tokenizer.tokenize(s))),\n",
    "            #lambda s: ' '.join(map(lambda t: stemmer.stem(t), tokenizer.tokenize(s)))\n",
    "           ]\n",
    "\n",
    "def preprocess_text(text, pipeline=pipeline):\n",
    "    if len(pipeline) == 0:\n",
    "        return text\n",
    "    else:\n",
    "        return preprocess_text(pipeline[0](text), pipeline[1:])"
   ]
  },
  {
   "cell_type": "code",
   "execution_count": 16,
   "metadata": {
    "collapsed": true
   },
   "outputs": [],
   "source": [
    "def preprocess_review(r, test=False):\n",
    "    if (test):\n",
    "        SUMMARY_INDEX = 7\n",
    "        TEXT_INDEX = 8  \n",
    "    else:\n",
    "        SUMMARY_INDEX = 8\n",
    "        TEXT_INDEX = 9\n",
    "    \n",
    "    r[SUMMARY_INDEX] = preprocess_text(r[SUMMARY_INDEX])\n",
    "    r[TEXT_INDEX] = preprocess_text(r[TEXT_INDEX])\n",
    "    return r"
   ]
  },
  {
   "cell_type": "code",
   "execution_count": 17,
   "metadata": {
    "collapsed": false
   },
   "outputs": [],
   "source": [
    "import csv\n",
    "import sys\n",
    "\n",
    "reload(sys)\n",
    "sys.setdefaultencoding('utf-8')\n",
    "\n",
    "def parallel_preprocess(input_file, output_file, test=False):\n",
    "    # Load csv\n",
    "    reviewsRDD = sc.textFile(input_file, use_unicode=False)\n",
    "    reviewsRDD = reviewsRDD.mapPartitions(lambda x: csv.reader(x))\n",
    "\n",
    "    # Save header\n",
    "    header = reviewsRDD.first()\n",
    "\n",
    "    # Extract header and preprocess\n",
    "    reviewsRDD = reviewsRDD.filter(lambda x: x != header)\\\n",
    "                           .map(lambda x: preprocess_review(x, test))\n",
    "    ppreviews = reviewsRDD.collect()\n",
    "\n",
    "    # Insert header\n",
    "    ppreviews.insert(0, header)\n",
    "\n",
    "    # Save csv\n",
    "    with open(output_file, 'wb') as f:\n",
    "        writer = csv.writer(f)\n",
    "        writer.writerows(ppreviews)"
   ]
  },
  {
   "cell_type": "code",
   "execution_count": null,
   "metadata": {
    "collapsed": false
   },
   "outputs": [],
   "source": [
    "# Add test=True to preprocess test files\n",
    "parallel_preprocess('../data/train.csv', '../data/sparktrain.csv')"
   ]
  }
 ],
 "metadata": {
  "kernelspec": {
   "display_name": "pySpark",
   "language": "python",
   "name": "pyspark"
  },
  "language_info": {
   "codemirror_mode": {
    "name": "ipython",
    "version": 2
   },
   "file_extension": ".py",
   "mimetype": "text/x-python",
   "name": "python",
   "nbconvert_exporter": "python",
   "pygments_lexer": "ipython2",
   "version": "2.7.6"
  }
 },
 "nbformat": 4,
 "nbformat_minor": 1
}
