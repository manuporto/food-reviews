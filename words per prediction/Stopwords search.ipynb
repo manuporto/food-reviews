{
 "cells": [
  {
   "cell_type": "markdown",
   "metadata": {},
   "source": [
    "# Fine Food Reviews Stopwords"
   ]
  },
  {
   "cell_type": "code",
   "execution_count": 6,
   "metadata": {
    "collapsed": true
   },
   "outputs": [],
   "source": [
    "import pandas as pd"
   ]
  },
  {
   "cell_type": "code",
   "execution_count": 7,
   "metadata": {
    "collapsed": false
   },
   "outputs": [],
   "source": [
    "words_per_prediction = pd.read_csv('../data/wpp_train.csv')"
   ]
  },
  {
   "cell_type": "code",
   "execution_count": 8,
   "metadata": {
    "collapsed": false
   },
   "outputs": [],
   "source": [
    "word_frec = {}\n",
    "\n",
    "for i, row in words_per_prediction.iterrows():\n",
    "    word_frec[row['Prediction']] = {}\n",
    "    for word in row['Text'].split():\n",
    "        word_frec[row['Prediction']][word] = word_frec[row['Prediction']].get(word, 0) + 1"
   ]
  },
  {
   "cell_type": "code",
   "execution_count": 9,
   "metadata": {
    "collapsed": true
   },
   "outputs": [],
   "source": [
    "# Dict for word count (Summary + Text) per prediction\n",
    "word_total = {}\n",
    "\n",
    "for prediction in word_frec:\n",
    "    for word in word_frec[prediction]:\n",
    "        word_total[prediction] = word_total.get(prediction, 0) + word_frec[prediction][word]"
   ]
  },
  {
   "cell_type": "code",
   "execution_count": 5,
   "metadata": {
    "collapsed": true
   },
   "outputs": [],
   "source": [
    "# Save dictionaries\n",
    "for prediction in word_frec:\n",
    "    df = pd.DataFrame(word_frec[prediction].items(), columns=['Word', 'Ocurrences'])\n",
    "    df.to_csv('../data/word_frec_' + str(prediction) + '.csv', index = False)    "
   ]
  },
  {
   "cell_type": "markdown",
   "metadata": {},
   "source": [
    "Based on the clouds, lets study some word frecs"
   ]
  },
  {
   "cell_type": "markdown",
   "metadata": {},
   "source": [
    "### taste"
   ]
  },
  {
   "cell_type": "code",
   "execution_count": 10,
   "metadata": {
    "collapsed": false,
    "scrolled": true
   },
   "outputs": [
    {
     "name": "stdout",
     "output_type": "stream",
     "text": [
      "15795 / 3757558 = 0.00420352792958\n",
      "12579 / 2210019 = 0.00569180626954\n",
      "17252 / 3357703 = 0.00513803633019\n",
      "26070 / 6057101 = 0.0043040391765\n",
      "77994 / 22222602 = 0.00350967001974\n"
     ]
    }
   ],
   "source": [
    "for prediction in word_frec:\n",
    "    print(str(word_frec[prediction]['taste']) + ' / ' + str(word_total[prediction]) + ' = ' + str(word_frec[prediction]['taste']/float(word_total[prediction])))"
   ]
  },
  {
   "cell_type": "markdown",
   "metadata": {},
   "source": [
    "### product"
   ]
  },
  {
   "cell_type": "code",
   "execution_count": 33,
   "metadata": {
    "collapsed": false
   },
   "outputs": [
    {
     "name": "stdout",
     "output_type": "stream",
     "text": [
      "18808 / 3757558 = 0.00500537849316\n",
      "8886 / 2210019 = 0.00402077991185\n",
      "12310 / 3357703 = 0.0036661968018\n",
      "19906 / 6057101 = 0.00328639063473\n",
      "75087 / 22222602 = 0.00337885725533\n"
     ]
    }
   ],
   "source": [
    "for prediction in word_frec:\n",
    "    print(str(word_frec[prediction]['product']) + ' / ' + str(word_total[prediction]) + ' = ' + str(word_frec[prediction]['product']/float(word_total[prediction])))"
   ]
  },
  {
   "cell_type": "markdown",
   "metadata": {},
   "source": [
    "### dog"
   ]
  },
  {
   "cell_type": "code",
   "execution_count": 20,
   "metadata": {
    "collapsed": false
   },
   "outputs": [
    {
     "name": "stdout",
     "output_type": "stream",
     "text": [
      "6967 / 3757558 = 0.00185412973\n",
      "3436 / 2210019 = 0.0015547377647\n",
      "4983 / 3357703 = 0.00148405025698\n",
      "8419 / 6057101 = 0.00138993885028\n",
      "39902 / 22222602 = 0.00179555931389\n"
     ]
    }
   ],
   "source": [
    "for prediction in word_frec:\n",
    "    print(str(word_frec[prediction]['dog']) + ' / ' + str(word_total[prediction]) + ' = ' + str(word_frec[prediction]['dog']/float(word_total[prediction])))"
   ]
  },
  {
   "cell_type": "markdown",
   "metadata": {},
   "source": [
    "### good"
   ]
  },
  {
   "cell_type": "code",
   "execution_count": 12,
   "metadata": {
    "collapsed": false
   },
   "outputs": [
    {
     "name": "stdout",
     "output_type": "stream",
     "text": [
      "10861 / 3757558 = 0.00289044107902\n",
      "9327 / 2210019 = 0.00422032570761\n",
      "19300 / 3357703 = 0.00574797711412\n",
      "46641 / 6057101 = 0.00770021830575\n",
      "113439 / 22222602 = 0.00510466776123\n"
     ]
    }
   ],
   "source": [
    "for prediction in word_frec:\n",
    "    print(str(word_frec[prediction]['good']) + ' / ' + str(word_total[prediction]) + ' = ' + str(word_frec[prediction]['good']/float(word_total[prediction])))"
   ]
  },
  {
   "cell_type": "markdown",
   "metadata": {},
   "source": [
    "### one"
   ]
  },
  {
   "cell_type": "code",
   "execution_count": 22,
   "metadata": {
    "collapsed": false
   },
   "outputs": [
    {
     "name": "stdout",
     "output_type": "stream",
     "text": [
      "14652 / 3757558 = 0.00389934100818\n",
      "8049 / 2210019 = 0.00364205013622\n",
      "11900 / 3357703 = 0.00354408951596\n",
      "23313 / 6057101 = 0.00384887093677\n",
      "85482 / 22222602 = 0.00384662426119\n"
     ]
    }
   ],
   "source": [
    "for prediction in word_frec:\n",
    "    print(str(word_frec[prediction]['one']) + ' / ' + str(word_total[prediction]) + ' = ' + str(word_frec[prediction]['one']/float(word_total[prediction])))"
   ]
  },
  {
   "cell_type": "markdown",
   "metadata": {},
   "source": [
    "### flavor"
   ]
  },
  {
   "cell_type": "code",
   "execution_count": 23,
   "metadata": {
    "collapsed": false
   },
   "outputs": [
    {
     "name": "stdout",
     "output_type": "stream",
     "text": [
      "8485 / 3757558 = 0.00225811551013\n",
      "9069 / 2210019 = 0.00410358462982\n",
      "14519 / 3357703 = 0.00432408703212\n",
      "23712 / 6057101 = 0.00391474403349\n",
      "71279 / 22222602 = 0.00320750018382\n"
     ]
    }
   ],
   "source": [
    "for prediction in word_frec:\n",
    "    print(str(word_frec[prediction]['flavor']) + ' / ' + str(word_total[prediction]) + ' = ' + str(word_frec[prediction]['flavor']/float(word_total[prediction])))"
   ]
  },
  {
   "cell_type": "markdown",
   "metadata": {},
   "source": [
    "## Some important words to compare results"
   ]
  },
  {
   "cell_type": "markdown",
   "metadata": {},
   "source": [
    "### love (5)"
   ]
  },
  {
   "cell_type": "code",
   "execution_count": 13,
   "metadata": {
    "collapsed": false
   },
   "outputs": [
    {
     "name": "stdout",
     "output_type": "stream",
     "text": [
      "4316 / 3757558 = 0.00114861833137\n",
      "3244 / 2210019 = 0.00146786068355\n",
      "5476 / 3357703 = 0.00163087682264\n",
      "12748 / 6057101 = 0.00210463718535\n",
      "97848 / 22222602 = 0.00440308475128\n"
     ]
    }
   ],
   "source": [
    "for prediction in word_frec:\n",
    "    print(str(word_frec[prediction]['love']) + ' / ' + str(word_total[prediction]) + ' = ' + str(word_frec[prediction]['love']/float(word_total[prediction])))"
   ]
  },
  {
   "cell_type": "markdown",
   "metadata": {},
   "source": [
    "### dont (?)"
   ]
  },
  {
   "cell_type": "code",
   "execution_count": 25,
   "metadata": {
    "collapsed": false
   },
   "outputs": [
    {
     "name": "stdout",
     "output_type": "stream",
     "text": [
      "9866 / 3757558 = 0.00262564144053\n",
      "5785 / 2210019 = 0.00261762455436\n",
      "8406 / 3357703 = 0.00250349718245\n",
      "13236 / 6057101 = 0.00218520377983\n",
      "42433 / 22222602 = 0.00190945236746\n"
     ]
    }
   ],
   "source": [
    "for prediction in word_frec:\n",
    "    print(str(word_frec[prediction]['dont']) + ' / ' + str(word_total[prediction]) + ' = ' + str(word_frec[prediction]['dont']/float(word_total[prediction])))"
   ]
  },
  {
   "cell_type": "markdown",
   "metadata": {},
   "source": [
    "---\n",
    "tl;dr este set de datos no tiene arreglo"
   ]
  },
  {
   "cell_type": "markdown",
   "metadata": {},
   "source": [
    "## Bar Plots"
   ]
  },
  {
   "cell_type": "code",
   "execution_count": 58,
   "metadata": {
    "collapsed": false
   },
   "outputs": [
    {
     "data": {
      "image/png": "[encoded data removed]",
      "text/plain": [
       "<matplotlib.figure.Figure at 0xac371a8c>"
      ]
     },
     "metadata": {},
     "output_type": "display_data"
    }
   ],
   "source": [
    "import numpy as np\n",
    "import matplotlib.pyplot as plt\n",
    "\n",
    "n_groups = 3\n",
    "\n",
    "f1 = (word_frec[1]['product']/float(word_total[1]), \n",
    "      word_frec[1]['taste']/float(word_total[1]),\n",
    "      word_frec[1]['flavor']/float(word_total[1]))\n",
    "\n",
    "f2 = (word_frec[2]['product']/float(word_total[2]), \n",
    "      word_frec[2]['taste']/float(word_total[2]),\n",
    "      word_frec[2]['flavor']/float(word_total[2]))\n",
    "\n",
    "f3 = (word_frec[3]['product']/float(word_total[3]), \n",
    "      word_frec[3]['taste']/float(word_total[3]),\n",
    "      word_frec[3]['flavor']/float(word_total[3]))\n",
    "\n",
    "f4 = (word_frec[4]['product']/float(word_total[4]), \n",
    "      word_frec[4]['taste']/float(word_total[4]),\n",
    "      word_frec[4]['flavor']/float(word_total[4]))\n",
    "\n",
    "f5 = (word_frec[5]['product']/float(word_total[5]), \n",
    "      word_frec[5]['taste']/float(word_total[5]),\n",
    "      word_frec[5]['flavor']/float(word_total[5]))\n",
    "\n",
    "fig, ax = plt.subplots()\n",
    "\n",
    "index = np.arange(n_groups)\n",
    "bar_width = 0.15\n",
    "opacity = 0.5\n",
    "\n",
    "rects1 = plt.bar(index, f1, bar_width,\n",
    "                 alpha=opacity,\n",
    "                 color='y',\n",
    "                 label='1')\n",
    "\n",
    "rects2 = plt.bar(index + bar_width, f2, bar_width,\n",
    "                 alpha=opacity,\n",
    "                 color='b',\n",
    "                 label='2')\n",
    "\n",
    "rects3 = plt.bar(index + 2 * bar_width, f3, bar_width,\n",
    "                 alpha=opacity,\n",
    "                 color='g',\n",
    "                 label='3')\n",
    "\n",
    "rects4 = plt.bar(index + 3 * bar_width, f4, bar_width,\n",
    "                 alpha=opacity,\n",
    "                 color='m',\n",
    "                 label='4')\n",
    "\n",
    "rects5 = plt.bar(index + 4 * bar_width, f5, bar_width,\n",
    "                 alpha=opacity,\n",
    "                 color='c',\n",
    "                 label='5')\n",
    "\n",
    "plt.xlabel('Palabras')\n",
    "plt.ylabel('Probabilidad de palabra')\n",
    "plt.title('Probabilidad de palabra por clase')\n",
    "plt.xticks(index + 2.5 * bar_width, ('product', 'taste', 'flavor'))\n",
    "plt.legend(prop={'size': 9.5})\n",
    "\n",
    "plt.tight_layout()\n",
    "plt.show()\n",
    "\n",
    "fig.savefig('plots/palabras_probables.png')"
   ]
  },
  {
   "cell_type": "code",
   "execution_count": 59,
   "metadata": {
    "collapsed": false
   },
   "outputs": [
    {
     "data": {
      "image/png": "[encoded data removed]",
      "text/plain": [
       "<matplotlib.figure.Figure at 0xacdb3f6c>"
      ]
     },
     "metadata": {},
     "output_type": "display_data"
    }
   ],
   "source": [
    "import numpy as np\n",
    "import matplotlib.pyplot as plt\n",
    "\n",
    "n_groups = 3\n",
    "\n",
    "f1 = (word_frec[1]['love']/float(word_total[1]), \n",
    "      word_frec[1]['great']/float(word_total[1]),\n",
    "      word_frec[1]['tea']/float(word_total[1]))\n",
    "\n",
    "f2 = (word_frec[2]['love']/float(word_total[2]), \n",
    "      word_frec[2]['great']/float(word_total[2]),\n",
    "      word_frec[2]['tea']/float(word_total[2]))\n",
    "\n",
    "f3 = (word_frec[3]['love']/float(word_total[3]), \n",
    "      word_frec[3]['great']/float(word_total[3]),\n",
    "      word_frec[3]['tea']/float(word_total[3]))\n",
    "\n",
    "f4 = (word_frec[4]['love']/float(word_total[4]), \n",
    "      word_frec[4]['great']/float(word_total[4]),\n",
    "      word_frec[4]['tea']/float(word_total[4]))\n",
    "\n",
    "f5 = (word_frec[5]['love']/float(word_total[5]), \n",
    "      word_frec[5]['great']/float(word_total[5]),\n",
    "      word_frec[5]['tea']/float(word_total[5]))\n",
    "\n",
    "fig, ax = plt.subplots()\n",
    "\n",
    "index = np.arange(n_groups)\n",
    "bar_width = 0.15\n",
    "opacity = 0.5\n",
    "\n",
    "rects1 = plt.bar(index, f1, bar_width,\n",
    "                 alpha=opacity,\n",
    "                 color='y',\n",
    "                 label='1')\n",
    "\n",
    "rects2 = plt.bar(index + bar_width, f2, bar_width,\n",
    "                 alpha=opacity,\n",
    "                 color='b',\n",
    "                 label='2')\n",
    "\n",
    "rects3 = plt.bar(index + 2 * bar_width, f3, bar_width,\n",
    "                 alpha=opacity,\n",
    "                 color='g',\n",
    "                 label='3')\n",
    "\n",
    "rects4 = plt.bar(index + 3 * bar_width, f4, bar_width,\n",
    "                 alpha=opacity,\n",
    "                 color='m',\n",
    "                 label='4')\n",
    "\n",
    "rects5 = plt.bar(index + 4 * bar_width, f5, bar_width,\n",
    "                 alpha=opacity,\n",
    "                 color='c',\n",
    "                 label='5')\n",
    "\n",
    "plt.xlabel('Palabras')\n",
    "plt.ylabel('Probabilidad de palabra')\n",
    "plt.title('Probabilidad de palabra por clase')\n",
    "plt.xticks(index + 2.5 * bar_width, ('love', 'great', 'tea'))\n",
    "plt.legend(prop={'size': 9.5})\n",
    "\n",
    "plt.tight_layout()\n",
    "plt.show()\n",
    "\n",
    "fig.savefig('plots/palabras_poco_probables.png')"
   ]
  }
 ],
 "metadata": {
  "kernelspec": {
   "display_name": "Python 2",
   "language": "python",
   "name": "python2"
  },
  "language_info": {
   "codemirror_mode": {
    "name": "ipython",
    "version": 2
   },
   "file_extension": ".py",
   "mimetype": "text/x-python",
   "name": "python",
   "nbconvert_exporter": "python",
   "pygments_lexer": "ipython2",
   "version": "2.7.6"
  }
 },
 "nbformat": 4,
 "nbformat_minor": 1
}
