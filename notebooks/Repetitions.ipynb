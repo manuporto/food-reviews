{
 "cells": [
  {
   "cell_type": "markdown",
   "metadata": {},
   "source": [
    "# Repeated reviews"
   ]
  },
  {
   "cell_type": "code",
   "execution_count": 26,
   "metadata": {
    "collapsed": true
   },
   "outputs": [],
   "source": [
    "import pandas as pd"
   ]
  },
  {
   "cell_type": "code",
   "execution_count": 27,
   "metadata": {
    "collapsed": false
   },
   "outputs": [
    {
     "name": "stdout",
     "output_type": "stream",
     "text": [
      "       Id   ProductId          UserId                ProfileName  \\\n",
      "0  492346  B001VNP0Y6   AEZRVY3CV52UZ  Corey Wright \"Democratus\"   \n",
      "1  343811  B008J1HO4C  A18VZYSLOUO060    D. Simpson \"Frugal SOB\"   \n",
      "2  347257  B000FFIL60  A28Y1M7GRG0I9M        Real Comments \"Lin\"   \n",
      "3  225529  B002ZX1U9A  A245HC4T5J97WG            Logan DeAngelis   \n",
      "4  485488  B001RVFERK   AVABPJCKE2MR5                       spal   \n",
      "\n",
      "   HelpfulnessNumerator  HelpfulnessDenominator  Prediction        Time  \\\n",
      "0                     3                       3           5  1320537600   \n",
      "1                     2                       2           5  1204329600   \n",
      "2                     0                       0           4  1318464000   \n",
      "3                     0                       0           5  1306540800   \n",
      "4                     0                       0           4  1314921600   \n",
      "\n",
      "                         Summary  \\\n",
      "0             Just what I needed   \n",
      "1         Most excellent oatmeal   \n",
      "2                    Quality Tea   \n",
      "3  Great Coffee at a Great price   \n",
      "4       Popchips Jalapeno flavor   \n",
      "\n",
      "                                                Text  \n",
      "0  I got them in a very timely manner and they're...  \n",
      "1  McCann's Steel Cut Oatmeal is the perfect brea...  \n",
      "2  I would recommend it. Quality pearls and a few...  \n",
      "3  I have to admit, I first purchased these Hazel...  \n",
      "4  I bought a case of jalapeno chips as I love th...  \n"
     ]
    }
   ],
   "source": [
    "df = pd.read_csv('../data/train.csv')\n",
    "df.fillna('', inplace = True)\n",
    "print(df.head(5))"
   ]
  },
  {
   "cell_type": "code",
   "execution_count": 31,
   "metadata": {
    "collapsed": false
   },
   "outputs": [
    {
     "name": "stdout",
     "output_type": "stream",
     "text": [
      "Empty DataFrame\n",
      "Columns: [Id, ProductId, UserId, ProfileName, HelpfulnessNumerator, HelpfulnessDenominator, Prediction, ProductId, Time, Summary, Text]\n",
      "Index: []\n"
     ]
    }
   ],
   "source": [
    "names = ['Id', 'ProductId', 'UserId', 'ProfileName', 'HelpfulnessNumerator', 'HelpfulnessDenominator', 'Prediction', 'ProductId', 'Time', 'Summary', 'Text']\n",
    "repeats = pd.DataFrame(columns=names)\n",
    "print(repeats.head())        "
   ]
  },
  {
   "cell_type": "code",
   "execution_count": null,
   "metadata": {
    "collapsed": false
   },
   "outputs": [
    {
     "name": "stdout",
     "output_type": "stream",
     "text": [
      "i 0\n",
      "i 1\n",
      "i 2\n",
      "i 3\n",
      "i 4\n",
      "i 5\n",
      "i 6\n",
      "i 7\n",
      "i 8\n",
      "i 9\n",
      "i 10\n"
     ]
    }
   ],
   "source": [
    "attached = []\n",
    "\n",
    "for i, rowi in df.iterrows():\n",
    "    print('i ' + str(i))\n",
    "    for j, rowj in df.iterrows():\n",
    "        if (i == j):\n",
    "            continue\n",
    "        if (rowi['Summary'] == rowj['Summary'] and rowi['Text'] == rowj['Text']):\n",
    "            if (j not in attached):\n",
    "                repeats.loc[len(repeats)] = rowj\n",
    "                attached.append(j)"
   ]
  },
  {
   "cell_type": "code",
   "execution_count": null,
   "metadata": {
    "collapsed": true
   },
   "outputs": [],
   "source": [
    "print(repeats.head())"
   ]
  },
  {
   "cell_type": "code",
   "execution_count": null,
   "metadata": {
    "collapsed": true
   },
   "outputs": [],
   "source": [
    "repeats.to_csv(\"../data/repeats_train.csv\", index = False)"
   ]
  }
 ],
 "metadata": {
  "kernelspec": {
   "display_name": "Python 2",
   "language": "python",
   "name": "python2"
  },
  "language_info": {
   "codemirror_mode": {
    "name": "ipython",
    "version": 2
   },
   "file_extension": ".py",
   "mimetype": "text/x-python",
   "name": "python",
   "nbconvert_exporter": "python",
   "pygments_lexer": "ipython2",
   "version": "2.7.6"
  }
 },
 "nbformat": 4,
 "nbformat_minor": 1
}
