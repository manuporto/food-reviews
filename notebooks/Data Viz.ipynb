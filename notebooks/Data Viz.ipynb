{
 "cells": [
  {
   "cell_type": "code",
   "execution_count": 2,
   "metadata": {
    "collapsed": false
   },
   "outputs": [],
   "source": [
    "import pandas as pd\n",
    "import numpy as np\n",
    "import matplotlib\n",
    "from matplotlib import pyplot as plt\n",
    "%matplotlib inline"
   ]
  },
  {
   "cell_type": "code",
   "execution_count": 3,
   "metadata": {
    "collapsed": false
   },
   "outputs": [],
   "source": [
    "df = pd.read_csv('../data/train.csv')"
   ]
  },
  {
   "cell_type": "code",
   "execution_count": 4,
   "metadata": {
    "collapsed": false,
    "scrolled": true
   },
   "outputs": [
    {
     "name": "stdout",
     "output_type": "stream",
     "text": [
      "       Id   ProductId          UserId                ProfileName  \\\n",
      "0  492346  B001VNP0Y6   AEZRVY3CV52UZ  Corey Wright \"Democratus\"   \n",
      "1  343811  B008J1HO4C  A18VZYSLOUO060    D. Simpson \"Frugal SOB\"   \n",
      "2  347257  B000FFIL60  A28Y1M7GRG0I9M        Real Comments \"Lin\"   \n",
      "3  225529  B002ZX1U9A  A245HC4T5J97WG            Logan DeAngelis   \n",
      "4  485488  B001RVFERK   AVABPJCKE2MR5                       spal   \n",
      "\n",
      "   HelpfulnessNumerator  HelpfulnessDenominator  Prediction        Time  \\\n",
      "0                     3                       3           5  1320537600   \n",
      "1                     2                       2           5  1204329600   \n",
      "2                     0                       0           4  1318464000   \n",
      "3                     0                       0           5  1306540800   \n",
      "4                     0                       0           4  1314921600   \n",
      "\n",
      "                         Summary  \\\n",
      "0             Just what I needed   \n",
      "1         Most excellent oatmeal   \n",
      "2                    Quality Tea   \n",
      "3  Great Coffee at a Great price   \n",
      "4       Popchips Jalapeno flavor   \n",
      "\n",
      "                                                Text  \n",
      "0  I got them in a very timely manner and they're...  \n",
      "1  McCann's Steel Cut Oatmeal is the perfect brea...  \n",
      "2  I would recommend it. Quality pearls and a few...  \n",
      "3  I have to admit, I first purchased these Hazel...  \n",
      "4  I bought a case of jalapeno chips as I love th...  \n"
     ]
    }
   ],
   "source": [
    "print(df.head(5))"
   ]
  },
  {
   "cell_type": "code",
   "execution_count": 46,
   "metadata": {
    "collapsed": false
   },
   "outputs": [
    {
     "name": "stdout",
     "output_type": "stream",
     "text": [
      "(454760, 2)\n",
      "           UserId  Prediction\n",
      "0   AEZRVY3CV52UZ           5\n",
      "1  A18VZYSLOUO060           5\n",
      "2  A28Y1M7GRG0I9M           4\n",
      "3  A245HC4T5J97WG           5\n",
      "4   AVABPJCKE2MR5           4\n"
     ]
    }
   ],
   "source": [
    "scores = pd.DataFrame(data = df, columns = ['UserId', 'Prediction'])\n",
    "print(scores.shape)\n",
    "print(scores.head(5))"
   ]
  },
  {
   "cell_type": "code",
   "execution_count": 47,
   "metadata": {
    "collapsed": false
   },
   "outputs": [
    {
     "name": "stdout",
     "output_type": "stream",
     "text": [
      "2.06891531623\n"
     ]
    }
   ],
   "source": [
    "user_counts = scores['UserId'].value_counts()\n",
    "print(user_counts.mean())"
   ]
  },
  {
   "cell_type": "code",
   "execution_count": 48,
   "metadata": {
    "collapsed": false
   },
   "outputs": [
    {
     "name": "stdout",
     "output_type": "stream",
     "text": [
      "(4238,)\n",
      "A3OXHLG6DIBRW8    345\n",
      "A1YUL9PCJR3JTY    338\n",
      "AY12DBB0U420B     306\n",
      "A281NPSIMI1C2R    289\n",
      "A1Z54EM24Y40LL    207\n",
      "A1TMAVN4CEM8U8    167\n",
      "A2MUGFV2TDQ47K    166\n",
      "A3TVZM3ZIXG8YW    161\n",
      "A3PJZ8TU8FDQ1K    151\n",
      "AZV26LP92E6WU     140\n",
      "Name: UserId, dtype: int64\n"
     ]
    }
   ],
   "source": [
    "user_counts = user_counts[user_counts > 10]\n",
    "print(user_counts.shape)\n",
    "print(user_counts.head(10))"
   ]
  }
 ],
 "metadata": {
  "kernelspec": {
   "display_name": "Python 3",
   "language": "python",
   "name": "python3"
  },
  "language_info": {
   "codemirror_mode": {
    "name": "ipython",
    "version": 3
   },
   "file_extension": ".py",
   "mimetype": "text/x-python",
   "name": "python",
   "nbconvert_exporter": "python",
   "pygments_lexer": "ipython3",
   "version": "3.4.3"
  }
 },
 "nbformat": 4,
 "nbformat_minor": 1
}
