{
 "cells": [
  {
   "cell_type": "code",
   "execution_count": 22,
   "metadata": {
    "collapsed": false
   },
   "outputs": [],
   "source": [
    "import pandas as pd\n",
    "import numpy as np\n",
    "import matplotlib\n",
    "from matplotlib import pyplot as plt\n",
    "%matplotlib inline"
   ]
  },
  {
   "cell_type": "code",
   "execution_count": 42,
   "metadata": {
    "collapsed": false
   },
   "outputs": [],
   "source": [
    "df = pd.read_csv('../data/train.csv')\n",
    "df2 = pd.DataFrame(df)"
   ]
  },
  {
   "cell_type": "code",
   "execution_count": 36,
   "metadata": {
    "collapsed": false,
    "scrolled": true
   },
   "outputs": [
    {
     "name": "stdout",
     "output_type": "stream",
     "text": [
      "   Prediction\n",
      "0           5\n",
      "1           5\n",
      "2           4\n",
      "3           5\n",
      "4           4\n"
     ]
    }
   ],
   "source": [
    "print(df2.head(5))"
   ]
  },
  {
   "cell_type": "code",
   "execution_count": 25,
   "metadata": {
    "collapsed": false
   },
   "outputs": [
    {
     "name": "stdout",
     "output_type": "stream",
     "text": [
      "(454760, 2)\n",
      "           UserId  Prediction\n",
      "0   AEZRVY3CV52UZ           5\n",
      "1  A18VZYSLOUO060           5\n",
      "2  A28Y1M7GRG0I9M           4\n",
      "3  A245HC4T5J97WG           5\n",
      "4   AVABPJCKE2MR5           4\n"
     ]
    }
   ],
   "source": [
    "scores = pd.DataFrame(data = df, columns = ['UserId', 'Prediction'])\n",
    "print(scores.shape)\n",
    "print(scores.head(5))"
   ]
  },
  {
   "cell_type": "code",
   "execution_count": 26,
   "metadata": {
    "collapsed": false
   },
   "outputs": [
    {
     "name": "stdout",
     "output_type": "stream",
     "text": [
      "2.06891531623\n"
     ]
    }
   ],
   "source": [
    "user_counts = scores['UserId'].value_counts()\n",
    "print(user_counts.mean())"
   ]
  },
  {
   "cell_type": "code",
   "execution_count": 27,
   "metadata": {
    "collapsed": false
   },
   "outputs": [
    {
     "name": "stdout",
     "output_type": "stream",
     "text": [
      "(4238,)\n",
      "A3OXHLG6DIBRW8    345\n",
      "A1YUL9PCJR3JTY    338\n",
      "AY12DBB0U420B     306\n",
      "A281NPSIMI1C2R    289\n",
      "A1Z54EM24Y40LL    207\n",
      "A1TMAVN4CEM8U8    167\n",
      "A2MUGFV2TDQ47K    166\n",
      "A3TVZM3ZIXG8YW    161\n",
      "A3PJZ8TU8FDQ1K    151\n",
      "AZV26LP92E6WU     140\n",
      "Name: UserId, dtype: int64\n"
     ]
    }
   ],
   "source": [
    "user_counts = user_counts[user_counts > 10]\n",
    "print(user_counts.shape)\n",
    "print(user_counts.head(10))"
   ]
  },
  {
   "cell_type": "code",
   "execution_count": null,
   "metadata": {
    "collapsed": false
   },
   "outputs": [],
   "source": [
    "products = df2.groupby('ProductId').('Prediction').mean()\n",
    "print(products.head())"
   ]
  },
  {
   "cell_type": "code",
   "execution_count": 44,
   "metadata": {
    "collapsed": false
   },
   "outputs": [
    {
     "data": {
      "text/plain": [
       "<matplotlib.axes._subplots.AxesSubplot at 0x7f4740879908>"
      ]
     },
     "execution_count": 44,
     "metadata": {},
     "output_type": "execute_result"
    },
    {
     "data": {
      "image/png": "[encoded data removed]",
      "text/plain": [
       "<matplotlib.figure.Figure at 0x7f4740bf1518>"
      ]
     },
     "metadata": {},
     "output_type": "display_data"
    }
   ],
   "source": [
    "df2['Prediction'].value_counts(sort=False).plot.bar()"
   ]
  },
  {
   "cell_type": "code",
   "execution_count": null,
   "metadata": {
    "collapsed": true
   },
   "outputs": [],
   "source": [
    "df"
   ]
  }
 ],
 "metadata": {
  "kernelspec": {
   "display_name": "Python 3",
   "language": "python",
   "name": "python3"
  },
  "language_info": {
   "codemirror_mode": {
    "name": "ipython",
    "version": 3
   },
   "file_extension": ".py",
   "mimetype": "text/x-python",
   "name": "python",
   "nbconvert_exporter": "python",
   "pygments_lexer": "ipython3",
   "version": "3.4.3"
  }
 },
 "nbformat": 4,
 "nbformat_minor": 1
}
