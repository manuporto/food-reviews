{
 "cells": [
  {
   "cell_type": "markdown",
   "metadata": {},
   "source": [
    "# Training set preprocess\n",
    "Removes html formatting, punctuation and numerals from 'Summary' and 'Text' columns"
   ]
  },
  {
   "cell_type": "code",
   "execution_count": 1,
   "metadata": {
    "collapsed": true
   },
   "outputs": [],
   "source": [
    "import pandas as pd\n",
    "import re"
   ]
  },
  {
   "cell_type": "code",
   "execution_count": 2,
   "metadata": {
    "collapsed": true
   },
   "outputs": [],
   "source": [
    "pipeline = [lambda s: re.sub('<[^>]*>', ' ', s),\n",
    "            lambda s: re.sub('[^\\w\\s]', '', s),\n",
    "            lambda s: re.sub('[\\d]', '', s),\n",
    "            lambda s: s.lower()]"
   ]
  },
  {
   "cell_type": "code",
   "execution_count": 3,
   "metadata": {
    "collapsed": true
   },
   "outputs": [],
   "source": [
    "def preprocess(s, pipeline = pipeline):\n",
    "    if len(pipeline) == 0:\n",
    "        return s\n",
    "    else:\n",
    "        return preprocess(pipeline[0](s), pipeline[1:])"
   ]
  },
  {
   "cell_type": "code",
   "execution_count": 4,
   "metadata": {
    "collapsed": true
   },
   "outputs": [],
   "source": [
    "def preprocess_df(df):\n",
    "    df.fillna('', inplace = True)\n",
    "    \n",
    "    for i in xrange(len(df.Text)):\n",
    "        df.set_value(i, 'Summary', preprocess(df.Summary[i]))\n",
    "        df.set_value(i, 'Text', preprocess(df.Text[i]))"
   ]
  },
  {
   "cell_type": "code",
   "execution_count": 5,
   "metadata": {
    "collapsed": false
   },
   "outputs": [
    {
     "name": "stdout",
     "output_type": "stream",
     "text": [
      "       Id  Prediction                        Summary  \\\n",
      "0  492346           5             Just what I needed   \n",
      "1  343811           5         Most excellent oatmeal   \n",
      "2  347257           4                    Quality Tea   \n",
      "3  225529           5  Great Coffee at a Great price   \n",
      "4  485488           4       Popchips Jalapeno flavor   \n",
      "\n",
      "                                                Text  \n",
      "0  I got them in a very timely manner and they're...  \n",
      "1  McCann's Steel Cut Oatmeal is the perfect brea...  \n",
      "2  I would recommend it. Quality pearls and a few...  \n",
      "3  I have to admit, I first purchased these Hazel...  \n",
      "4  I bought a case of jalapeno chips as I love th...  \n"
     ]
    }
   ],
   "source": [
    "fields = ['Id', 'Prediction', 'Summary', 'Text']\n",
    "df_train = pd.read_csv('../data/train.csv', usecols = fields)\n",
    "print(df_train.head(5))"
   ]
  },
  {
   "cell_type": "code",
   "execution_count": 6,
   "metadata": {
    "collapsed": false
   },
   "outputs": [
    {
     "name": "stdout",
     "output_type": "stream",
     "text": [
      "       Id  Prediction                        Summary  \\\n",
      "0  492346           5             just what i needed   \n",
      "1  343811           5         most excellent oatmeal   \n",
      "2  347257           4                    quality tea   \n",
      "3  225529           5  great coffee at a great price   \n",
      "4  485488           4       popchips jalapeno flavor   \n",
      "\n",
      "                                                Text  \n",
      "0  i got them in a very timely manner and theyre ...  \n",
      "1  mccanns steel cut oatmeal is the perfect break...  \n",
      "2  i would recommend it quality pearls and a few ...  \n",
      "3  i have to admit i first purchased these hazeln...  \n",
      "4  i bought a case of jalapeno chips as i love th...  \n"
     ]
    }
   ],
   "source": [
    "preprocess_df(df_train)\n",
    "print(df_train.head(5))"
   ]
  },
  {
   "cell_type": "code",
   "execution_count": 7,
   "metadata": {
    "collapsed": true
   },
   "outputs": [],
   "source": [
    "df_train.to_csv(\"../data/preprocessed_train.csv\", index = False)"
   ]
  }
 ],
 "metadata": {
  "kernelspec": {
   "display_name": "Python 2",
   "language": "python",
   "name": "python2"
  },
  "language_info": {
   "codemirror_mode": {
    "name": "ipython",
    "version": 2
   },
   "file_extension": ".py",
   "mimetype": "text/x-python",
   "name": "python",
   "nbconvert_exporter": "python",
   "pygments_lexer": "ipython2",
   "version": "2.7.6"
  }
 },
 "nbformat": 4,
 "nbformat_minor": 1
}
