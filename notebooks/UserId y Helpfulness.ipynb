{
 "cells": [
  {
   "cell_type": "code",
   "execution_count": 1,
   "metadata": {
    "collapsed": true
   },
   "outputs": [],
   "source": [
    "import pandas as pd\n",
    "import numpy as np\n",
    "import matplotlib\n",
    "from matplotlib import pyplot as plt\n",
    "%matplotlib inline"
   ]
  },
  {
   "cell_type": "code",
   "execution_count": 3,
   "metadata": {
    "collapsed": false
   },
   "outputs": [],
   "source": [
    "df = pd.read_csv('../data/train.csv')\n",
    "df = pd.DataFrame(data = df, columns = ['UserId', 'HelpfulnessNumerator', 'HelpfulnessDenominator'])"
   ]
  },
  {
   "cell_type": "code",
   "execution_count": 4,
   "metadata": {
    "collapsed": false
   },
   "outputs": [
    {
     "name": "stdout",
     "output_type": "stream",
     "text": [
      "           UserId  HelpfulnessNumerator  HelpfulnessDenominator\n",
      "0   AEZRVY3CV52UZ                     3                       3\n",
      "1  A18VZYSLOUO060                     2                       2\n",
      "2  A28Y1M7GRG0I9M                     0                       0\n",
      "3  A245HC4T5J97WG                     0                       0\n",
      "4   AVABPJCKE2MR5                     0                       0\n"
     ]
    }
   ],
   "source": [
    "print(df.head(5))"
   ]
  },
  {
   "cell_type": "code",
   "execution_count": 42,
   "metadata": {
    "collapsed": false
   },
   "outputs": [
    {
     "name": "stdout",
     "output_type": "stream",
     "text": [
      "(219806,)\n",
      "2.06891531623\n",
      "82.29893633476793\n"
     ]
    }
   ],
   "source": [
    "user_counts = df['UserId'].value_counts()\n",
    "avg = user_counts[user_counts >  user_counts.mean()]\n",
    "print(user_counts.shape)\n",
    "print(user_counts.mean())\n",
    "print(avg.shape[0]*100/user_counts.shape[0])"
   ]
  },
  {
   "cell_type": "code",
   "execution_count": 41,
   "metadata": {
    "collapsed": false
   },
   "outputs": [
    {
     "name": "stdout",
     "output_type": "stream",
     "text": [
      "1.0 2.0\n"
     ]
    }
   ],
   "source": [
    "low, high = user_counts.quantile(q = [0.25, 0.75])#q = [0.25, 0.75])\n",
    "print(low, high)"
   ]
  },
  {
   "cell_type": "code",
   "execution_count": 46,
   "metadata": {
    "collapsed": false
   },
   "outputs": [
    {
     "name": "stdout",
     "output_type": "stream",
     "text": [
      "(454760,)\n",
      "2.24344709297\n",
      "0.2187417538921629\n"
     ]
    }
   ],
   "source": [
    "help_counts = df['HelpfulnessDenominator']#.value_counts()\n",
    "avg = help_counts[help_counts > help_counts.mean()]\n",
    "print(help_counts.shape)\n",
    "#print(help_counts.head)\n",
    "print(help_counts.mean())\n",
    "print(avg.shape[0]/help_counts.shape[0])"
   ]
  },
  {
   "cell_type": "code",
   "execution_count": null,
   "metadata": {
    "collapsed": true
   },
   "outputs": [],
   "source": []
  }
 ],
 "metadata": {
  "kernelspec": {
   "display_name": "Python 3",
   "language": "python",
   "name": "python3"
  },
  "language_info": {
   "codemirror_mode": {
    "name": "ipython",
    "version": 3
   },
   "file_extension": ".py",
   "mimetype": "text/x-python",
   "name": "python",
   "nbconvert_exporter": "python",
   "pygments_lexer": "ipython3",
   "version": "3.4.3"
  }
 },
 "nbformat": 4,
 "nbformat_minor": 1
}
